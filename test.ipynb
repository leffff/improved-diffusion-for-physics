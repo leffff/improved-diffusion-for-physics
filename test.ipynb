{
 "cells": [
  {
   "cell_type": "code",
   "execution_count": 1,
   "id": "3bfbc475-ff8c-42a5-aa5b-48fe3db26816",
   "metadata": {},
   "outputs": [],
   "source": [
    "import torch"
   ]
  },
  {
   "cell_type": "code",
   "execution_count": 2,
   "id": "3551fd57-8e6d-45f1-93d5-a16be82f69b8",
   "metadata": {},
   "outputs": [],
   "source": [
    "DEVICE = \"cpu\""
   ]
  },
  {
   "cell_type": "code",
   "execution_count": 3,
   "id": "57f1eff2-74a0-4440-b14e-9259abda70a3",
   "metadata": {},
   "outputs": [
    {
     "data": {
      "text/plain": [
       "torch.Size([23, 64, 198])"
      ]
     },
     "execution_count": 3,
     "metadata": {},
     "output_type": "execute_result"
    }
   ],
   "source": [
    "from improved_diffusion.unet import UNetModel\n",
    "from improved_diffusion.losses import ODEFlowMatchingLoss\n",
    "from improved_diffusion.functional import ode_euler_integration\n",
    "\n",
    "\n",
    "model = UNetModel(\n",
    "    in_channels=198, # should be equal to num_features (input features) \n",
    "    dims=1, #this states, that we are using 1D U-Net\n",
    "    condition_dims=1, # num_condition_features\n",
    "    model_channels=256, # inner model features\n",
    "    out_channels=198, # should be equal to num_features (input features) \n",
    "    num_res_blocks=10, # idk\n",
    "    attention_resolutions=(\"16\",) # idk\n",
    ")\n",
    "\n",
    "x_0 = torch.rand(23, 64, 198) # our input [batch_size, num_atoms, num_features]\n",
    "#num_atoms should be a 2 to some power\n",
    "t = torch.rand(23) # our time [batch_size]\n",
    "y = torch.rand(23, 1) * 10 # features to condition on [batch_size, num_condition_features]\n",
    "\n",
    "model(\n",
    "    x=x_0, \n",
    "    timesteps=t, \n",
    "    y=y\n",
    ").shape # torch.Size([23, 64, 198]), which matches x.shape torch.Size([23, 64, 198])"
   ]
  },
  {
   "cell_type": "code",
   "execution_count": 4,
   "id": "4d13ae0b-e876-438c-b034-7979dd811f1f",
   "metadata": {},
   "outputs": [],
   "source": [
    "loss = ODEFlowMatchingLoss(reduction=\"mean\")"
   ]
  },
  {
   "cell_type": "code",
   "execution_count": 5,
   "id": "665556e3-7c89-4834-b2f9-1f9bebf22a3f",
   "metadata": {},
   "outputs": [
    {
     "data": {
      "text/plain": [
       "tensor(0.1671, grad_fn=<MseLossBackward0>)"
      ]
     },
     "execution_count": 5,
     "metadata": {},
     "output_type": "execute_result"
    }
   ],
   "source": [
    "x_1 = torch.rand(23, 64, 198) # our input [batch_size, num_atoms, num_features]\n",
    "\n",
    "loss(model, x_0, x_1, t, y)"
   ]
  },
  {
   "cell_type": "code",
   "execution_count": null,
   "id": "4ca6960d-38e1-45cd-aa5e-83ff8a406ecd",
   "metadata": {},
   "outputs": [],
   "source": [
    "x_pred = ode_euler_integration(model, x_0, y, DEVICE)"
   ]
  },
  {
   "cell_type": "code",
   "execution_count": null,
   "id": "c1fb7d9c-6ace-49fa-acd6-a38b80cbc5b6",
   "metadata": {},
   "outputs": [],
   "source": [
    "x_pred.shape"
   ]
  },
  {
   "cell_type": "code",
   "execution_count": 1,
   "id": "026627dc-c22c-42f0-9474-7c5f9278ebe1",
   "metadata": {},
   "outputs": [],
   "source": [
    "from improved_diffusion.unet import UNetRegressor\n",
    "\n",
    "\n",
    "model = UNetRegressor(\n",
    "    in_channels=196, # should be equal to num_features (input features)\n",
    "    out_dims=1, # regressor dims\n",
    "    dims=1, #this states, that we are using 1D U-Net\n",
    "    model_channels=256, # inner model features\n",
    "    num_res_blocks=10, # idk\n",
    "    attention_resolutions=(\"16\",) # idk\n",
    ")\n"
   ]
  },
  {
   "cell_type": "code",
   "execution_count": 2,
   "id": "201852b8-1478-442f-bbcf-85079eb2c5a6",
   "metadata": {},
   "outputs": [
    {
     "data": {
      "text/plain": [
       "torch.Size([23, 1])"
      ]
     },
     "execution_count": 2,
     "metadata": {},
     "output_type": "execute_result"
    }
   ],
   "source": [
    "import torch\n",
    "\n",
    "x_0 = torch.rand(23, 64, 196) # our input [batch_size, num_atoms, num_features]\n",
    "#num_atoms should be a 2 to some power\n",
    "\n",
    "model(x=x_0).shape"
   ]
  }
 ],
 "metadata": {
  "kernelspec": {
   "display_name": "Python 3 (ipykernel)",
   "language": "python",
   "name": "python3"
  },
  "language_info": {
   "codemirror_mode": {
    "name": "ipython",
    "version": 3
   },
   "file_extension": ".py",
   "mimetype": "text/x-python",
   "name": "python",
   "nbconvert_exporter": "python",
   "pygments_lexer": "ipython3",
   "version": "3.9.11"
  }
 },
 "nbformat": 4,
 "nbformat_minor": 5
}

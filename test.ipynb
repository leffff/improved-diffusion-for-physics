{
 "cells": [
  {
   "cell_type": "code",
   "execution_count": 2,
   "id": "57f1eff2-74a0-4440-b14e-9259abda70a3",
   "metadata": {},
   "outputs": [
    {
     "data": {
      "text/plain": [
       "torch.Size([1, 64, 198])"
      ]
     },
     "execution_count": 2,
     "metadata": {},
     "output_type": "execute_result"
    }
   ],
   "source": [
    "import torch\n",
    "from improved_diffusion.unet import UNetModel\n",
    "\n",
    "model = UNetModel(\n",
    "    in_channels=198, # should be equal to num_features (input features) \n",
    "    dims=1, #this states, that we are using 1D U-Net\n",
    "    condition_dims=1, # num_condition_features\n",
    "    model_channels=256, # inner model features\n",
    "    out_channels=198, # should be equal to num_features (input features) \n",
    "    num_res_blocks=10, # idk\n",
    "    attention_resolutions=(\"16\",) # idk\n",
    ")\n",
    "\n",
    "x = torch.rand(1, 64, 198) # our input [batch_size, num_atoms, num_features]\n",
    "#num_atoms should be a 2 to some power\n",
    "t = torch.rand(1) # our time [batch_size]\n",
    "y = torch.rand(1, 1) * 10 # features to condition on [batch_size, num_condition_features]\n",
    "\n",
    "model(\n",
    "    x=x, \n",
    "    timesteps=t, \n",
    "    y=y\n",
    ").shape # torch.Size([1, 64, 198]), which matches x.shape torch.Size([1, 64, 198])"
   ]
  }
 ],
 "metadata": {
  "kernelspec": {
   "display_name": "Python 3 (ipykernel)",
   "language": "python",
   "name": "python3"
  },
  "language_info": {
   "codemirror_mode": {
    "name": "ipython",
    "version": 3
   },
   "file_extension": ".py",
   "mimetype": "text/x-python",
   "name": "python",
   "nbconvert_exporter": "python",
   "pygments_lexer": "ipython3",
   "version": "3.9.11"
  }
 },
 "nbformat": 4,
 "nbformat_minor": 5
}
